{
 "cells": [
  {
   "cell_type": "markdown",
   "id": "476389f0",
   "metadata": {},
   "source": [
    "# Downloading the Data\n",
    "To begin, let's download the data using the `urlretrieve` function from `urllib.request`."
   ]
  },
  {
   "cell_type": "code",
   "execution_count": 2,
   "id": "45b18b8a",
   "metadata": {},
   "outputs": [],
   "source": [
    "import  requests\n",
    "import os\n",
    "medical_charges_url = \"https://raw.githubusercontent.com/JovianML/opendatasets/master/data/medical-charges.csv\"\n",
    "datasets_path = \"datasets\""
   ]
  },
  {
   "cell_type": "code",
   "execution_count": 3,
   "id": "cf22dbb1",
   "metadata": {},
   "outputs": [
    {
     "name": "stdout",
     "output_type": "stream",
     "text": [
      "File already exists\n"
     ]
    }
   ],
   "source": [
    "filename = \"medical.csv\"\n",
    "filepath = os.path.join(datasets_path, filename)\n",
    "if not os.path.isfile(filepath):\n",
    "    try:\n",
    "        os.makedirs(datasets_path, exist_ok=True)\n",
    "        response = requests.get(medical_charges_url, stream=True)\n",
    "        response.raise_for_status()\n",
    "        \n",
    "        with open(filepath, 'wb') as f:\n",
    "            for chunk in response.iter_content(chunk_size=8192):\n",
    "                f.write(chunk)\n",
    "        print(f\"CSV file downloaded successfully to {datasets_path}/{filename}\")\n",
    "    except requests.exceptions.RequestException as e:\n",
    "        print(f\"Error downloadinf the file {e}\")\n",
    "else:\n",
    "    print(\"File already exists\")"
   ]
  },
  {
   "cell_type": "code",
   "execution_count": null,
   "id": "5c660cc7",
   "metadata": {},
   "outputs": [],
   "source": []
  }
 ],
 "metadata": {
  "kernelspec": {
   "display_name": "first",
   "language": "python",
   "name": "python3"
  },
  "language_info": {
   "codemirror_mode": {
    "name": "ipython",
    "version": 3
   },
   "file_extension": ".py",
   "mimetype": "text/x-python",
   "name": "python",
   "nbconvert_exporter": "python",
   "pygments_lexer": "ipython3",
   "version": "3.13.7"
  }
 },
 "nbformat": 4,
 "nbformat_minor": 5
}
